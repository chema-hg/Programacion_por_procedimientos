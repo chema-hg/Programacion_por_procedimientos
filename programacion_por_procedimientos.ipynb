{
 "cells": [
  {
   "attachments": {},
   "cell_type": "markdown",
   "metadata": {},
   "source": [
    "# Técnicas avanzadas de programación.\n",
    "\n",
    "# Bifurcación utilizando diccionarios.\n",
    "\n",
    "Las funciones son objetos, y el nombre de una función es una referencia de objeto que apunta a la función.\n",
    "Si escribimos el nombre de una función sin paréntesis, Python sabrá que queremos indicar la referencia de objeto y podremos pasar este tipo de referencias de objeto como cualquier otra. Podemos aprovechar este hecho para sustituir sentencias if que tienen numerosas cláusulas elif con una sola invocación de función. \n",
    "\n",
    "Por ejemplo si tenemos el siguiente menu:\n",
    "\n",
    "(A)dd (E)dit (L)ist (R)emove (I)mport e(X)port (Q)uit\n",
    "\n",
    "A continuación tenemos dos trozos de código para invocar a la función correspondiente de acuerdo con la selección del usuario:\n",
    "\n",
    "if action == \"a\":\n",
    "    add_dvd(db)\n",
    "elif action == \"e\":\n",
    "    edit_dvd(db)\n",
    "elif action == \"l\":\n",
    "    list_dvd(db)\n",
    "elif action == \"r\":\n",
    "    remove_dvd(db)\n",
    "elif action == \"i\":\n",
    "    import_dvd(db)\n",
    "elif action == \"x\":\n",
    "    export(db)\n",
    "elif action == \"q\":\n",
    "    quit(db)\n",
    "\n",
    "Sin embargo con el siguiente código ahorramos muchas lineas usando diccionarios:\n",
    "\n",
    "action = input(\"Selecciona una opción: \")\n",
    "functions = dict(a=add_dvd, e=edit_dvd, l=list_dvd, r=remove_dvd, i=import_dvd, x=export, q=quit)\n",
    "\n",
    "Se ejecuta la opción seleccionada."
   ]
  },
  {
   "cell_type": "code",
   "execution_count": 1,
   "metadata": {},
   "outputs": [
    {
     "ename": "NameError",
     "evalue": "name 'function' is not defined",
     "output_type": "error",
     "traceback": [
      "\u001b[0;31m---------------------------------------------------------------------------\u001b[0m",
      "\u001b[0;31mNameError\u001b[0m                                 Traceback (most recent call last)",
      "Cell \u001b[0;32mIn[1], line 1\u001b[0m\n\u001b[0;32m----> 1\u001b[0m function[action](db)\n",
      "\u001b[0;31mNameError\u001b[0m: name 'function' is not defined"
     ]
    }
   ],
   "source": [
    "function[action](db)"
   ]
  },
  {
   "attachments": {},
   "cell_type": "markdown",
   "metadata": {},
   "source": [
    "# Generador de expresiones y funciones.\n",
    "Podemos crear un generador de expresiones. Prácticamente tiene la misma sintaxis que las listas por compresion, la diferencia esta en qu están dentro de paréntesis en vez de corchetes.\n",
    "A continuación tenemos dos códigos que muestran como se puede codificar un generador con un sencillo bulce for ... in que contine una expresión yield:"
   ]
  },
  {
   "cell_type": "code",
   "execution_count": null,
   "metadata": {},
   "outputs": [
    {
     "name": "stdout",
     "output_type": "stream",
     "text": [
      "('a', 'moto')\n",
      "('b', 'bicicleta')\n",
      "('c', 'coche')\n"
     ]
    }
   ],
   "source": [
    "d = {'b':'bicicleta', 'a':'moto', 'c':'coche'}\n",
    "def items_in_key_order(d):\n",
    "    for key in sorted(d):\n",
    "        yield key, d[key]\n",
    "x = items_in_key_order(d)\n",
    "print(next(x))\n",
    "print(next(x))\n",
    "print(next(x))"
   ]
  },
  {
   "attachments": {},
   "cell_type": "markdown",
   "metadata": {},
   "source": [
    "Ahora si usamos la compresión de parentesis:"
   ]
  },
  {
   "cell_type": "code",
   "execution_count": null,
   "metadata": {},
   "outputs": [
    {
     "name": "stdout",
     "output_type": "stream",
     "text": [
      "('a', 'moto')\n",
      "('b', 'bicicleta')\n",
      "('c', 'coche')\n"
     ]
    }
   ],
   "source": [
    "d = {'b':'bicicleta', 'a':'moto', 'c':'coche'}\n",
    "def items_in_key_order(d):\n",
    "    return ((key, d[key]) for key in sorted(d))\n",
    "x = items_in_key_order(d)\n",
    "print(next(x))\n",
    "print(next(x))\n",
    "print(next(x))"
   ]
  },
  {
   "attachments": {},
   "cell_type": "markdown",
   "metadata": {},
   "source": [
    "Algunos generadores producen tantos valores como pidamos, sin ningun limite. A continuación se muestra el uso del generador:"
   ]
  },
  {
   "cell_type": "code",
   "execution_count": null,
   "metadata": {},
   "outputs": [
    {
     "name": "stdout",
     "output_type": "stream",
     "text": [
      "[0.0, 0.25, 0.5, 0.75, 1.0]\n"
     ]
    }
   ],
   "source": [
    "def cuartos(next_cuarto=0.0):\n",
    "    while True:\n",
    "        yield next_cuarto\n",
    "        next_cuarto += 0.25\n",
    "\n",
    "resultado = []\n",
    "for x in cuartos():\n",
    "    resultado.append(x) \n",
    "\n",
    "    if x >= 1.0:\n",
    "        break\n",
    "print(resultado)"
   ]
  },
  {
   "attachments": {},
   "cell_type": "markdown",
   "metadata": {},
   "source": [
    "# Ejecución dinámica de código.\n",
    "\n",
    "Existen algunas ocasiones en las que es más fácil escribir un trozo de código que genere el código que necesiamos, que escribir directamente el código. Y en algunos contextos es útil permitir que el usuario escriba directament el código como por ejemplo en las formulas de Excel. La forma más sencilla de ejecutar una función es utilizar eval() con los peligros que lleva."
   ]
  },
  {
   "cell_type": "code",
   "execution_count": null,
   "metadata": {},
   "outputs": [
    {
     "name": "stdout",
     "output_type": "stream",
     "text": [
      "2147483647\n"
     ]
    }
   ],
   "source": [
    "x = eval(\"2**31-1\")\n",
    "print(x)"
   ]
  },
  {
   "attachments": {},
   "cell_type": "markdown",
   "metadata": {},
   "source": [
    "Pero si queremos crear dinámicamente una función podemos utilizar la función integrada exec(). Por ejemplo el usuario puede pasarnos una fórmula como 4pir2 y el nombre \"area de una esfera\" que queremos convertir en una función. Asumiendo que sustituimos pi por math.pi se podría crear como sigue:"
   ]
  },
  {
   "cell_type": "code",
   "execution_count": null,
   "metadata": {},
   "outputs": [
    {
     "name": "stdout",
     "output_type": "stream",
     "text": [
      "math\n",
      "__builtins__\n",
      "area_of_sphere\n",
      "<function area_of_sphere at 0x7fecdfc57d90>\n",
      "314.1592653589793\n"
     ]
    }
   ],
   "source": [
    "import math\n",
    "code = '''\n",
    "def area_of_sphere(r):\n",
    "    return 4 * math.pi * r ** 2\n",
    "'''\n",
    "context = {}\n",
    "context['math'] = math\n",
    "exec(code, context)\n",
    "\n",
    "for i in context:\n",
    "    print(i)\n",
    "print(context['area_of_sphere'])\n",
    "\n",
    "area_of_sphere = context['area_of_sphere']\n",
    "area = area_of_sphere(5)\n",
    "print(area)"
   ]
  },
  {
   "attachments": {},
   "cell_type": "markdown",
   "metadata": {},
   "source": [
    "hay que tener cuidado con los sangrados. Si invocamos a exec() con algún código como argumento, no podremos aceder a ninguna función ni variable que se creen como consecuencia de la ejecución. Ademas exec() no puede acceder a ninguno de los modulos importados ni a las variables, funciones u otros objetos  que esten en el alcance en el momento de la invocación. Todos estos problemas se pueden solucionar pasando un diccionario como argumento. El diccionario nos da un lugar donde guardar las referencias de los objetos tras finalizar la invocación de exec(). Por ejemplo el uso del diccionario context quiere decir que tras la invocación de exec(), el diccionario tendrá una referencia de objeto que apunta a la función area_of_sphere() que creo exec(). En este ejemplo necesitamos que exec() pueda aceder al modulo math, asi que insertaremos un elemento en el diccinario de contexto cuya clave sea el nombre del modulo y cuyo valor sea una referencia de objeto que paunte al objeto del modulo correspondiente. "
   ]
  },
  {
   "attachments": {},
   "cell_type": "markdown",
   "metadata": {},
   "source": [
    "Las anotaciones en python se pueden utilizar de la siguiente forma:"
   ]
  },
  {
   "cell_type": "code",
   "execution_count": null,
   "metadata": {},
   "outputs": [
    {
     "name": "stdout",
     "output_type": "stream",
     "text": [
      "Juan\n",
      "{'nombre': <class 'str'>, 'return': <class 'str'>}\n"
     ]
    }
   ],
   "source": [
    "def imprime_nombre(nombre:  str)-> str:\n",
    "    print(nombre)\n",
    "\n",
    "imprime_nombre(\"Juan\")\n",
    "print(imprime_nombre.__annotations__)"
   ]
  },
  {
   "cell_type": "code",
   "execution_count": null,
   "metadata": {},
   "outputs": [
    {
     "ename": "AttributeError",
     "evalue": "'Point' object has no attribute 'c'",
     "output_type": "error",
     "traceback": [
      "\u001b[0;31m---------------------------------------------------------------------------\u001b[0m",
      "\u001b[0;31mAttributeError\u001b[0m                            Traceback (most recent call last)",
      "Cell \u001b[0;32mIn[25], line 9\u001b[0m\n\u001b[1;32m      5\u001b[0m         \u001b[39mself\u001b[39m\u001b[39m.\u001b[39my \u001b[39m=\u001b[39m y\n\u001b[1;32m      8\u001b[0m x \u001b[39m=\u001b[39m Point(\u001b[39m5\u001b[39m,\u001b[39m6\u001b[39m)\n\u001b[0;32m----> 9\u001b[0m x\u001b[39m.\u001b[39;49mc \u001b[39m=\u001b[39m \u001b[39m8\u001b[39m\n\u001b[1;32m     10\u001b[0m \u001b[39mprint\u001b[39m(x\u001b[39m.\u001b[39mc)\n",
      "\u001b[0;31mAttributeError\u001b[0m: 'Point' object has no attribute 'c'"
     ]
    }
   ],
   "source": [
    "class Point:\n",
    "    __slots__ = (\"x\",\"y\")\n",
    "    def __init__(self, x=0, y=0):\n",
    "        self.x = x\n",
    "        self.y = y\n",
    "        \n",
    "    \n",
    "x = Point(5,6)\n",
    "x.c = 8\n",
    "print(x.c)"
   ]
  },
  {
   "attachments": {},
   "cell_type": "markdown",
   "metadata": {},
   "source": [
    "# Programación estilo funcional\n",
    "tres conceptos muy vinculados a la programación funcional son:\n",
    "el mapeo, el filtrado y la redución"
   ]
  },
  {
   "attachments": {},
   "cell_type": "markdown",
   "metadata": {},
   "source": [
    "## el mapeo \n",
    "el mapeo toma una función y un iterable y produce un iterable nuevo (o una lista) en el que cada elemento es el resultado de invocar a la función en el elemento correspondiente del iterable original. La función ma() toma una función y un iterabl ey devuelve un iterador en lugar de una lista."
   ]
  },
  {
   "cell_type": "code",
   "execution_count": 10,
   "metadata": {},
   "outputs": [
    {
     "data": {
      "text/plain": [
       "[0, 1, 4, 9]"
      ]
     },
     "execution_count": 10,
     "metadata": {},
     "output_type": "execute_result"
    }
   ],
   "source": [
    "x = map(lambda x: x ** 2, range(4))\n",
    "list(x)"
   ]
  },
  {
   "attachments": {},
   "cell_type": "markdown",
   "metadata": {},
   "source": [
    "También se puede utilizar compresión de listas en lugar de map"
   ]
  },
  {
   "cell_type": "code",
   "execution_count": 19,
   "metadata": {},
   "outputs": [
    {
     "data": {
      "text/plain": [
       "[0, 1, 4, 9]"
      ]
     },
     "execution_count": 19,
     "metadata": {},
     "output_type": "execute_result"
    }
   ],
   "source": [
    "[x ** 2 for x in range(4)]"
   ]
  },
  {
   "attachments": {},
   "cell_type": "markdown",
   "metadata": {},
   "source": [
    "## el filtrado\n",
    "el filtrado toma una función y un iterable y produce un iterable nuevo donde cada elemento es del iterable original (siempre y cuando la función devuelva True cuando se invoque el elemento.)"
   ]
  },
  {
   "cell_type": "code",
   "execution_count": 11,
   "metadata": {},
   "outputs": [
    {
     "name": "stdout",
     "output_type": "stream",
     "text": [
      "[1, 3, 5]\n"
     ]
    }
   ],
   "source": [
    "x = filter(lambda x: x > 0, [1, -2, 3, -4, 5, -6])\n",
    "print(list(x))"
   ]
  },
  {
   "attachments": {},
   "cell_type": "markdown",
   "metadata": {},
   "source": [
    "Tambien como alternativa podemos usar compresión de lista."
   ]
  },
  {
   "cell_type": "code",
   "execution_count": 20,
   "metadata": {},
   "outputs": [
    {
     "data": {
      "text/plain": [
       "[1, 3, 5]"
      ]
     },
     "execution_count": 20,
     "metadata": {},
     "output_type": "execute_result"
    }
   ],
   "source": [
    "[x for x in [1, -2, 3, -4, 5, -6] if x > 0]"
   ]
  },
  {
   "attachments": {},
   "cell_type": "markdown",
   "metadata": {},
   "source": [
    "## la redución\n",
    "La reducción toma una función y un iterable y produce un solo valor de resultado. Funciona invocando a la función en los dos primeros valores del iterable, depues en el resultado calculado y el tercer valor, depues en el resultado calculado y asi sucesivamente hasta que se hayan finalizado todos los valores. La función functools.reduce() del modulo functools los soporta."
   ]
  },
  {
   "cell_type": "code",
   "execution_count": 13,
   "metadata": {},
   "outputs": [
    {
     "data": {
      "text/plain": [
       "24"
      ]
     },
     "execution_count": 13,
     "metadata": {},
     "output_type": "execute_result"
    }
   ],
   "source": [
    "import functools\n",
    "functools.reduce(lambda x, y: x * y, [1, 2, 3, 4])\n",
    "# 24 porque 1 * 2 = 2 luego 2 * 3 = 6 luego 6 * 4 = 24\n"
   ]
  },
  {
   "cell_type": "code",
   "execution_count": 16,
   "metadata": {},
   "outputs": [
    {
     "data": {
      "text/plain": [
       "24"
      ]
     },
     "execution_count": 16,
     "metadata": {},
     "output_type": "execute_result"
    }
   ],
   "source": [
    "# o lo que es lo mismo\n",
    "import operator\n",
    "functools.reduce(operator.mul, range(1, 5))"
   ]
  },
  {
   "attachments": {},
   "cell_type": "markdown",
   "metadata": {},
   "source": [
    "El modulo operator tiene funciones para todos los operadores de Python, en especial para facilitar la programación funcional. En el código anterior hemos utilizado operator.mul en lugar de crear una función de multiplicación utilizando lambda en la primera linea.\n",
    "\n",
    "Python nos ofrece tambien de forma nativa algunas funciones integradas de redución como:\n",
    "all() que dado un iterable nos devuelve True , si todos los elementos del iterable devuelven True."
   ]
  },
  {
   "cell_type": "code",
   "execution_count": 17,
   "metadata": {},
   "outputs": [
    {
     "name": "stdout",
     "output_type": "stream",
     "text": [
      "False\n"
     ]
    }
   ],
   "source": [
    "mylist = [0, 1, 1]\n",
    "x = all(mylist)\n",
    "print(x)"
   ]
  },
  {
   "attachments": {},
   "cell_type": "markdown",
   "metadata": {},
   "source": [
    "any() que devuelve True si cualquiera de los elementos de un iterable devuelve True.\n",
    "max() que devuelve el elemento mas grande de un iterable.\n",
    "min() que devuelve el elemento mas pequeño de un iterable.\n",
    "sum() que devuelve la suma de los elementos del iterable.\n",
    "\n",
    "Utilizar map(), filter() y functools.reduce() suele conducirnos a la eleminación de bucles."
   ]
  }
 ],
 "metadata": {
  "kernelspec": {
   "display_name": "venv",
   "language": "python",
   "name": "python3"
  },
  "language_info": {
   "codemirror_mode": {
    "name": "ipython",
    "version": 3
   },
   "file_extension": ".py",
   "mimetype": "text/x-python",
   "name": "python",
   "nbconvert_exporter": "python",
   "pygments_lexer": "ipython3",
   "version": "3.10.6"
  },
  "orig_nbformat": 4
 },
 "nbformat": 4,
 "nbformat_minor": 2
}
